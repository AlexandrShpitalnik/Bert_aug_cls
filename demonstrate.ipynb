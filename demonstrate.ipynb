{
 "cells": [
  {
   "cell_type": "code",
   "execution_count": null,
   "metadata": {},
   "outputs": [],
   "source": [
    "from google.colab import drive\n",
    "drive.mount('/content/drive')\n",
    "\n",
    "!rm -rf /root/.pytorch_pretrained_bert/imdb_fine/5\n",
    "\n",
    "!mkdir /root/.pytorch_pretrained_bert\n",
    "!mkdir /root/.pytorch_pretrained_bert/imdb_fine\n",
    "\n",
    "!pip3 install pytorch_pretrained_bert\n",
    "\n",
    "import nltk\n",
    "nltk.download('stopwords')\n",
    "\n",
    "!cp -r -f /content/drive/'My Drive'/project_q/content/"
   ]
  },
  {
   "cell_type": "code",
   "execution_count": null,
   "metadata": {},
   "outputs": [],
   "source": [
    "import pandas as pd\n",
    "import sys\n",
    "\n",
    "sys.path.append('/content/project_q/')\n",
    "\n",
    "from bert_cls import *\n",
    "from model_fitetune import *\n",
    "from model_aug import *\n",
    "from sklearn.model_selection import KFold, StratifiedKFold\n",
    "from tqdm import tqdm_notebook\n",
    "import numpy as np\n",
    "import matplotlib\n",
    "import matplotlib.pyplot as plt"
   ]
  },
  {
   "cell_type": "code",
   "execution_count": null,
   "metadata": {},
   "outputs": [],
   "source": [
    "dataset_name = \"/content/project_q/leading_sent_big.txt\"\n",
    "finetune_dataset = \"/content/project_q/imdb_labelled.txt\""
   ]
  },
  {
   "cell_type": "code",
   "execution_count": null,
   "metadata": {},
   "outputs": [],
   "source": [
    "finetune_bert = FinetuneBert(ds_path=finetune_dataset, model_name='imdb_fine', num_epochs=4)\n",
    "finetune_bert.finetune()"
   ]
  },
  {
   "cell_type": "code",
   "execution_count": null,
   "metadata": {},
   "outputs": [],
   "source": [
    "sent_data = pd.read_csv(dataset_name, \n",
    "                        sep=';', \n",
    "                        names=['label','sent','sentence'], header=0, encoding = \"utf-8\")"
   ]
  },
  {
   "cell_type": "code",
   "execution_count": null,
   "metadata": {},
   "outputs": [],
   "source": [
    "X = sent_data.sentence.values\n",
    "xu = [s.encode('utf-8') for s in X]\n",
    "x = np.array([bytes([i for i in j if i< 128]).decode('utf-8') for j in xu])\n",
    "y = np.array(sent_data.label.values)\n",
    "lbl = np.array(sent_data.sent.values)\n",
    "\n",
    "d_lbl = {}\n",
    "for i in range(len(x)):\n",
    "    d_lbl[x[i]] = lbl[i]"
   ]
  },
  {
   "cell_type": "code",
   "execution_count": null,
   "metadata": {},
   "outputs": [],
   "source": [
    "po, pa, t, test_folds, train_folds = get_metrics_aug(x, y, n_folds=13, temp=1.2, random_state=64, use_untuned=False, if_lbl=True, use_stop = True,\n",
    "                                                     lr = 2e-5, n_random=4, n_epochs=4, n_samples=4, n_rounds=3, d_lbl = d_lbl)"
   ]
  },
  {
   "cell_type": "code",
   "execution_count": null,
   "metadata": {},
   "outputs": [],
   "source": [
    "a = accurancy_score(po, t)\n",
    "b = accurancy_score(pa, t)\n",
    "print(sum(a)/len(a))\n",
    "print(sum(b)/len(b))\n",
    "\n",
    "drow_plots(a,b)"
   ]
  },
  {
   "cell_type": "code",
   "execution_count": null,
   "metadata": {},
   "outputs": [],
   "source": [
    "import scipy.stats\n",
    "scipy.stats.wilcoxon(a,b, alternative='less')"
   ]
  },
  {
   "cell_type": "code",
   "execution_count": null,
   "metadata": {},
   "outputs": [],
   "source": [
    "##augmentation demonstration"
   ]
  },
  {
   "cell_type": "code",
   "execution_count": null,
   "metadata": {},
   "outputs": [],
   "source": [
    "s = 'Would you vote for a woman for President if she were qualified in every other aspect?'\n",
    "aug_bert.aug_sent(s, label = 1, temp=1, n_rounds=1, n_samples=1, n_random=2)"
   ]
  },
  {
   "cell_type": "code",
   "execution_count": null,
   "metadata": {},
   "outputs": [],
   "source": [
    "##cls demonstration"
   ]
  },
  {
   "cell_type": "code",
   "execution_count": null,
   "metadata": {},
   "outputs": [],
   "source": [
    "aug_bert = BertAug(model_name='imdb_fine/5', use_untuned=use_untuned, use_stop = use_stop)\n",
    "\n",
    "model = BertClassificationModel(n_epochs=n_epochs, lr=lr)\n",
    "model.fit(X,y)\n",
    "predict = model.predict_batch_proba(X_test)\n"
   ]
  }
 ],
 "metadata": {
  "kernelspec": {
   "display_name": "Python 3",
   "language": "python",
   "name": "python3"
  },
  "language_info": {
   "codemirror_mode": {
    "name": "ipython",
    "version": 3
   },
   "file_extension": ".py",
   "mimetype": "text/x-python",
   "name": "python",
   "nbconvert_exporter": "python",
   "pygments_lexer": "ipython3",
   "version": "3.7.3"
  }
 },
 "nbformat": 4,
 "nbformat_minor": 2
}
